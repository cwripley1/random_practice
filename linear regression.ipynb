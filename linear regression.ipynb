{
 "cells": [
  {
   "cell_type": "code",
   "execution_count": 118,
   "metadata": {},
   "outputs": [],
   "source": [
    "import matplotlib.pyplot as plt\n",
    "%matplotlib inline  \n",
    "import numpy as np\n",
    "import pandas as pd\n",
    "import time"
   ]
  },
  {
   "cell_type": "code",
   "execution_count": 119,
   "metadata": {},
   "outputs": [],
   "source": [
    "df = pd.read_csv(\"Housing.csv\")"
   ]
  },
  {
   "cell_type": "code",
   "execution_count": 120,
   "metadata": {},
   "outputs": [
    {
     "name": "stdout",
     "output_type": "stream",
     "text": [
      "     price  lotsize  bedrooms  bathrms  stories driveway recroom fullbase  \\\n",
      "0  42000.0     5850         3        1        2      yes      no      yes   \n",
      "1  38500.0     4000         2        1        1      yes      no       no   \n",
      "2  49500.0     3060         3        1        1      yes      no       no   \n",
      "3  60500.0     6650         3        1        2      yes     yes       no   \n",
      "4  61000.0     6360         2        1        1      yes      no       no   \n",
      "\n",
      "  gashw airco  garagepl prefarea  \n",
      "0    no    no         1       no  \n",
      "1    no    no         0       no  \n",
      "2    no    no         0       no  \n",
      "3    no    no         0       no  \n",
      "4    no    no         0       no  \n"
     ]
    }
   ],
   "source": [
    "print(df.head())"
   ]
  },
  {
   "cell_type": "code",
   "execution_count": 121,
   "metadata": {},
   "outputs": [
    {
     "name": "stdout",
     "output_type": "stream",
     "text": [
      "before reshape: (546, 2)\n",
      "after reshape: (546, 2)\n"
     ]
    }
   ],
   "source": [
    "Y = df['price'].values\n",
    "Y = Y/1000\n",
    "X = df[['lotsize','bedrooms']].values\n",
    "print(\"before reshape:\",X.shape)\n",
    "X = X.reshape(len(X),2)\n",
    "print(\"after reshape:\",X.shape)\n",
    "Y = Y.reshape(len(Y),1)"
   ]
  },
  {
   "cell_type": "code",
   "execution_count": 122,
   "metadata": {},
   "outputs": [
    {
     "data": {
      "text/plain": [
       "([], <a list of 0 Text yticklabel objects>)"
      ]
     },
     "execution_count": 122,
     "metadata": {},
     "output_type": "execute_result"
    },
    {
     "data": {
      "image/png": "[encoded data removed]",
      "text/plain": [
       "<matplotlib.figure.Figure at 0x25d83f8ed68>"
      ]
     },
     "metadata": {},
     "output_type": "display_data"
    }
   ],
   "source": [
    "# Plot outputs\n",
    "# print(X[:,0])\n",
    "plt.scatter(X[:,0], Y,  color='black')\n",
    "plt.title('Data')\n",
    "plt.xlabel('Lot Size')\n",
    "plt.ylabel('Price')\n",
    "plt.xticks(())\n",
    "plt.yticks(())"
   ]
  },
  {
   "cell_type": "code",
   "execution_count": 123,
   "metadata": {},
   "outputs": [
    {
     "data": {
      "text/plain": [
       "([], <a list of 0 Text yticklabel objects>)"
      ]
     },
     "execution_count": 123,
     "metadata": {},
     "output_type": "execute_result"
    },
    {
     "data": {
      "image/png": "[encoded data removed]",
      "text/plain": [
       "<matplotlib.figure.Figure at 0x25d83f8e198>"
      ]
     },
     "metadata": {},
     "output_type": "display_data"
    }
   ],
   "source": [
    "plt.scatter(X[:,1], Y,  color='black')\n",
    "plt.title('Data')\n",
    "plt.xlabel('Bedrooms')\n",
    "plt.ylabel('Price')\n",
    "plt.xticks(())\n",
    "plt.yticks(())"
   ]
  },
  {
   "cell_type": "code",
   "execution_count": 124,
   "metadata": {},
   "outputs": [],
   "source": [
    "def initialize_weights(n):\n",
    "    #n features\n",
    "    w = np.random.randn(n,1)*10**-5\n",
    "    b = 0\n",
    "    weights={}\n",
    "    weights['w'], weights['b'] = w,b\n",
    "    return weights"
   ]
  },
  {
   "cell_type": "code",
   "execution_count": 125,
   "metadata": {},
   "outputs": [
    {
     "data": {
      "text/plain": [
       "{'b': 0, 'w': array([[-6.60401700e-06],\n",
       "        [-7.26079295e-06]])}"
      ]
     },
     "execution_count": 125,
     "metadata": {},
     "output_type": "execute_result"
    }
   ],
   "source": [
    "weights = initialize_weights(2)\n",
    "weights"
   ]
  },
  {
   "cell_type": "code",
   "execution_count": 126,
   "metadata": {},
   "outputs": [],
   "source": [
    "def predict(X,weights):\n",
    "    #X input of shape (m , 1)\n",
    "    #m = # of observations\n",
    "    #n = 1 feature\n",
    "    w = weights['w']\n",
    "    b = weights['b']\n",
    "#     assert w.shape == (2,1)\n",
    "#     assert X.shape[1] == 2\n",
    "    y = np.matmul(X,w)+b\n",
    "    return y"
   ]
  },
  {
   "cell_type": "code",
   "execution_count": 127,
   "metadata": {},
   "outputs": [],
   "source": [
    "def plot_result(X,Y,Y_pred,alpha=1):\n",
    "    plt.figure(1)\n",
    "    plt.scatter(X[:,0], Y,  color='black')\n",
    "    plt.title('Data')\n",
    "    plt.xlabel('Lot Size')\n",
    "    plt.ylabel('Price')\n",
    "    plt.xticks(())\n",
    "    plt.yticks(())\n",
    "    plt.plot(X[:,0], Y_pred, color='red',linewidth=3,alpha=alpha)\n",
    "    \n",
    "    #find average price predicted per bedroom\n",
    "    x_data = X[:,1]\n",
    "    x_data = x_data.reshape(len(x_data),1)\n",
    "    data = np.concatenate((x_data,Y),axis=1)\n",
    "    df = pd.DataFrame(data=data, columns=['bedrooms','price'])\n",
    "    bedrooms = df.groupby(['bedrooms']).mean().index.values\n",
    "    price = df.groupby(['bedrooms']).mean().values\n",
    "    \n",
    "    plt.figure(2)\n",
    "    plt.scatter(X[:,1], Y,  color='black')\n",
    "    plt.title('Data')\n",
    "    plt.xlabel('bedrooms')\n",
    "    plt.ylabel('Price')\n",
    "    plt.xticks(())\n",
    "    plt.yticks(())\n",
    "    plt.plot(bedrooms, price, color='red',alpha=1)    "
   ]
  },
  {
   "cell_type": "code",
   "execution_count": 128,
   "metadata": {},
   "outputs": [],
   "source": [
    "def loss_function(Y_pred,Y):\n",
    "    loss = np.mean((Y_pred-Y)**2)\n",
    "    return loss"
   ]
  },
  {
   "cell_type": "code",
   "execution_count": 129,
   "metadata": {},
   "outputs": [],
   "source": [
    "def backprop(X,Y,Y_pred,weights,alpha=1*10**(-8)):\n",
    "    n = X.shape[1]\n",
    "    #X.shape = (m,2) feature data\n",
    "    #Y.shape = (m,1) true labels\n",
    "    #Y_pred.shape = (m,1) predicted labels\n",
    "    #weights[w].shape =  (2,1)\n",
    "    #weights[b].shape = (1,)\n",
    "    w = weights['w']\n",
    "    b = weights['b']\n",
    "#     assert X.shape[1] == 2\n",
    "#     assert (Y_pred-Y).shape[1] == 1\n",
    "    dw = np.mean(2*X*(Y_pred-Y),axis=0).transpose()\n",
    "    db = np.mean(2*(Y_pred-Y),axis=0)\n",
    "    dw = dw.reshape(n,1)\n",
    "#     assert dw.shape == (2,1)\n",
    "    w = w-dw*alpha\n",
    "    b = b-db*alpha\n",
    "    weights['w'],weights['b'] = w,b\n",
    "    return weights\n",
    "    "
   ]
  },
  {
   "cell_type": "code",
   "execution_count": 130,
   "metadata": {},
   "outputs": [
    {
     "name": "stdout",
     "output_type": "stream",
     "text": [
      "epoch : 0 ;loss = 5348.0 ;mean error: $ 73.0 K\n",
      "epoch : 1 ;loss = 1341.0 ;mean error: $ 37.0 K\n",
      "epoch : 2 ;loss = 775.0 ;mean error: $ 28.0 K\n",
      "epoch : 3 ;loss = 696.0 ;mean error: $ 26.0 K\n",
      "epoch : 4 ;loss = 684.0 ;mean error: $ 26.0 K\n",
      "epoch : 5 ;loss = 683.0 ;mean error: $ 26.0 K\n",
      "epoch : 6 ;loss = 683.0 ;mean error: $ 26.0 K\n",
      "epoch : 7 ;loss = 683.0 ;mean error: $ 26.0 K\n",
      "epoch : 8 ;loss = 683.0 ;mean error: $ 26.0 K\n",
      "epoch : 9 ;loss = 683.0 ;mean error: $ 26.0 K\n"
     ]
    },
    {
     "data": {
      "image/png": "[encoded data removed]",
      "text/plain": [
       "<matplotlib.figure.Figure at 0x25d8402e0b8>"
      ]
     },
     "metadata": {},
     "output_type": "display_data"
    },
    {
     "data": {
      "image/png": "[encoded data removed]",
      "text/plain": [
       "<matplotlib.figure.Figure at 0x25d84063470>"
      ]
     },
     "metadata": {},
     "output_type": "display_data"
    }
   ],
   "source": [
    "epochs = 10\n",
    "losses = []\n",
    "features = 2\n",
    "if features ==1:\n",
    "    X = X[:,0]\n",
    "    X= X.reshape(len(X),1)\n",
    "weights = initialize_weights(features)\n",
    "for i in range(epochs):\n",
    "    Y_pred = predict(X,weights)\n",
    "#     plot_result(X,Y,Y_pred,i+1/5)\n",
    "    loss = loss_function(Y_pred,Y)\n",
    "    weights = backprop(X,Y,Y_pred,weights)\n",
    "    print(\"epoch :\",i,\";loss =\",round(loss,0),\";mean error: $\",str(round(np.sqrt(loss),0)),\"K\")\n",
    "    losses.append(loss)\n",
    "    time.sleep(.1)\n",
    "plot_result(X,Y,Y_pred)"
   ]
  },
  {
   "cell_type": "code",
   "execution_count": 46,
   "metadata": {},
   "outputs": [
    {
     "data": {
      "text/plain": [
       "[<matplotlib.lines.Line2D at 0x25d82a51358>]"
      ]
     },
     "execution_count": 46,
     "metadata": {},
     "output_type": "execute_result"
    },
    {
     "data": {
      "image/png": "[encoded data removed]",
      "text/plain": [
       "<matplotlib.figure.Figure at 0x25d82715358>"
      ]
     },
     "metadata": {},
     "output_type": "display_data"
    }
   ],
   "source": [
    "plt.title('Data')\n",
    "plt.xlabel('epoch')\n",
    "plt.ylabel('Loss')\n",
    "plt.xticks(())\n",
    "plt.yticks(())\n",
    "plt.plot(range(len(losses)), losses, color='red',linewidth=3)"
   ]
  },
  {
   "cell_type": "code",
   "execution_count": 131,
   "metadata": {},
   "outputs": [
    {
     "name": "stdout",
     "output_type": "stream",
     "text": [
      "19.362625382007383\n"
     ]
    }
   ],
   "source": [
    "loss = np.mean(np.abs(Y_pred-Y))\n",
    "print(loss)"
   ]
  },
  {
   "cell_type": "code",
   "execution_count": null,
   "metadata": {},
   "outputs": [],
   "source": []
  }
 ],
 "metadata": {
  "kernelspec": {
   "display_name": "Python 3",
   "language": "python",
   "name": "python3"
  },
  "language_info": {
   "codemirror_mode": {
    "name": "ipython",
    "version": 3
   },
   "file_extension": ".py",
   "mimetype": "text/x-python",
   "name": "python",
   "nbconvert_exporter": "python",
   "pygments_lexer": "ipython3",
   "version": "3.6.4"
  }
 },
 "nbformat": 4,
 "nbformat_minor": 2
}
